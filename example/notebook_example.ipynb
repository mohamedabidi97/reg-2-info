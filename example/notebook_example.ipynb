{
 "cells": [
  {
   "cell_type": "markdown",
   "id": "a3fce38a",
   "metadata": {},
   "source": [
    "<div>  \n",
    "<center><h1 style = \"font-weight:lighter;\">📍 Importing Libraries</h1></center>\n",
    "</div>"
   ]
  },
  {
   "cell_type": "code",
   "execution_count": 9,
   "id": "0bf34087",
   "metadata": {},
   "outputs": [],
   "source": [
    "import pandas as pd\n",
    "from sklearn.model_selection import train_test_split\n",
    "from sklearn.linear_model import LinearRegression  \n",
    "import reg2info as r2i"
   ]
  },
  {
   "cell_type": "markdown",
   "id": "d9ebd766",
   "metadata": {},
   "source": [
    "<div>  \n",
    "<center><h1 style = \"font-weight:lighter;\">📍 Loading dataset</h1></center>\n",
    "</div>"
   ]
  },
  {
   "cell_type": "code",
   "execution_count": 10,
   "id": "307d138d",
   "metadata": {},
   "outputs": [
    {
     "data": {
      "text/html": [
       "<div>\n",
       "<style scoped>\n",
       "    .dataframe tbody tr th:only-of-type {\n",
       "        vertical-align: middle;\n",
       "    }\n",
       "\n",
       "    .dataframe tbody tr th {\n",
       "        vertical-align: top;\n",
       "    }\n",
       "\n",
       "    .dataframe thead th {\n",
       "        text-align: right;\n",
       "    }\n",
       "</style>\n",
       "<table border=\"1\" class=\"dataframe\">\n",
       "  <thead>\n",
       "    <tr style=\"text-align: right;\">\n",
       "      <th></th>\n",
       "      <th>YearsExperience</th>\n",
       "      <th>Salary</th>\n",
       "    </tr>\n",
       "  </thead>\n",
       "  <tbody>\n",
       "    <tr>\n",
       "      <th>0</th>\n",
       "      <td>1.1</td>\n",
       "      <td>39343.0</td>\n",
       "    </tr>\n",
       "    <tr>\n",
       "      <th>1</th>\n",
       "      <td>1.3</td>\n",
       "      <td>46205.0</td>\n",
       "    </tr>\n",
       "    <tr>\n",
       "      <th>2</th>\n",
       "      <td>1.5</td>\n",
       "      <td>37731.0</td>\n",
       "    </tr>\n",
       "    <tr>\n",
       "      <th>3</th>\n",
       "      <td>2.0</td>\n",
       "      <td>43525.0</td>\n",
       "    </tr>\n",
       "    <tr>\n",
       "      <th>4</th>\n",
       "      <td>2.2</td>\n",
       "      <td>39891.0</td>\n",
       "    </tr>\n",
       "  </tbody>\n",
       "</table>\n",
       "</div>"
      ],
      "text/plain": [
       "   YearsExperience   Salary\n",
       "0              1.1  39343.0\n",
       "1              1.3  46205.0\n",
       "2              1.5  37731.0\n",
       "3              2.0  43525.0\n",
       "4              2.2  39891.0"
      ]
     },
     "execution_count": 10,
     "metadata": {},
     "output_type": "execute_result"
    }
   ],
   "source": [
    "df = pd.read_csv(\"Salary_Data.csv\")\n",
    "df.head()"
   ]
  },
  {
   "cell_type": "markdown",
   "id": "2703e541",
   "metadata": {},
   "source": [
    "<div>  \n",
    "<center><h1 style = \"font-weight:lighter;\">📍 Splitting in to train and test set</h1></center>\n",
    "</div>"
   ]
  },
  {
   "cell_type": "code",
   "execution_count": 11,
   "id": "a65f44ee",
   "metadata": {},
   "outputs": [],
   "source": [
    "x= df.iloc[:, :-1].values  \n",
    "y= df.iloc[:, 1].values \n",
    "x_train, x_test, y_train, y_test= train_test_split(x, y, test_size= 1/3, random_state=0)  "
   ]
  },
  {
   "cell_type": "markdown",
   "id": "65e52fef",
   "metadata": {},
   "source": [
    "<div>  \n",
    "<center><h1 style = \"font-weight:lighter;\">📍 Train your linear regression model</h1></center>\n",
    "</div>"
   ]
  },
  {
   "cell_type": "code",
   "execution_count": 12,
   "id": "39bcc691",
   "metadata": {},
   "outputs": [],
   "source": [
    "lr= LinearRegression().fit(x_train, y_train)  "
   ]
  },
  {
   "cell_type": "markdown",
   "id": "bb644411",
   "metadata": {},
   "source": [
    "<div>  \n",
    "<center><h1 style = \"font-weight:lighter;\">📍Getting the equation of lr</h1></center>\n",
    "</div>"
   ]
  },
  {
   "cell_type": "code",
   "execution_count": 13,
   "id": "0fe36bc3",
   "metadata": {},
   "outputs": [
    {
     "data": {
      "text/plain": [
       "'y = 9345.942443122372x'"
      ]
     },
     "execution_count": 13,
     "metadata": {},
     "output_type": "execute_result"
    }
   ],
   "source": [
    "eq = r2i.reg_equation(lr)\n",
    "eq"
   ]
  },
  {
   "cell_type": "markdown",
   "id": "c4992ece",
   "metadata": {},
   "source": [
    "<div>  \n",
    "<center><h1 style = \"font-weight:lighter;\">📍 Plotting the lr line and training data</h1></center>\n",
    "</div>\n"
   ]
  },
  {
   "cell_type": "code",
   "execution_count": 14,
   "id": "d52d2bb1",
   "metadata": {},
   "outputs": [
    {
     "data": {
      "image/png": "[encoded data removed]",
      "text/plain": [
       "<Figure size 576x576 with 1 Axes>"
      ]
     },
     "metadata": {
      "needs_background": "light"
     },
     "output_type": "display_data"
    }
   ],
   "source": [
    "plot = r2i.reg_plot(lr, x, y)"
   ]
  }
 ],
 "metadata": {
  "kernelspec": {
   "display_name": "Python 3 (ipykernel)",
   "language": "python",
   "name": "python3"
  },
  "language_info": {
   "codemirror_mode": {
    "name": "ipython",
    "version": 3
   },
   "file_extension": ".py",
   "mimetype": "text/x-python",
   "name": "python",
   "nbconvert_exporter": "python",
   "pygments_lexer": "ipython3",
   "version": "3.9.5"
  }
 },
 "nbformat": 4,
 "nbformat_minor": 5
}
